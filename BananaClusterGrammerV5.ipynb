{
 "cells": [
  {
   "cell_type": "markdown",
   "metadata": {},
   "source": [
    "# Install Clustergrammer"
   ]
  },
  {
   "cell_type": "code",
   "execution_count": 2,
   "metadata": {},
   "outputs": [],
   "source": [
    "#! pip install clustergrammer2\n",
    "#! jupyter labextension install @jupyter-widgets/jupyterlab-manager"
   ]
  },
  {
   "cell_type": "markdown",
   "metadata": {},
   "source": [
    "# Import neccessary programs to run the calculations"
   ]
  },
  {
   "cell_type": "code",
   "execution_count": 30,
   "metadata": {},
   "outputs": [
    {
     "name": "stdout",
     "output_type": "stream",
     "text": [
      "0.24.2\n"
     ]
    }
   ],
   "source": [
    "import numpy as np\n",
    "import pandas as pd\n",
    "print(pd.__version__)\n",
    "from clustergrammer2 import net\n",
    "import warnings\n",
    "warnings.filterwarnings('ignore')"
   ]
  },
  {
   "cell_type": "markdown",
   "metadata": {},
   "source": [
    "Assignment statements in Python do not copy objects, they create bindings between a target and an object. For collections that are mutable or contain mutable items, a copy is sometimes needed so one can change one copy without changing the other."
   ]
  },
  {
   "cell_type": "code",
   "execution_count": 31,
   "metadata": {},
   "outputs": [],
   "source": [
    "from sklearn.metrics import f1_score\n",
    "from copy import deepcopy"
   ]
  },
  {
   "cell_type": "code",
   "execution_count": 32,
   "metadata": {},
   "outputs": [],
   "source": [
    "import matplotlib.pyplot as plt\n",
    "%matplotlib inline"
   ]
  },
  {
   "cell_type": "markdown",
   "metadata": {},
   "source": [
    "# Create a function to sum all element values and append that number to the end of the array"
   ]
  },
  {
   "cell_type": "code",
   "execution_count": 33,
   "metadata": {},
   "outputs": [],
   "source": [
    "def cell_umi_count(df):\n",
    "    sum_arr = []\n",
    "    sum_names = []\n",
    "    for inst_cell in df:\n",
    "        sum_arr.append( df[inst_cell].sum() )\n",
    "        sum_names.append(inst_cell)\n",
    "    \n",
    "    ser_sum = pd.Series(data=sum_arr, index=sum_names)\n",
    "    return ser_sum"
   ]
  },
  {
   "cell_type": "markdown",
   "metadata": {},
   "source": [
    "# Import and shape the data"
   ]
  },
  {
   "cell_type": "code",
   "execution_count": 34,
   "metadata": {},
   "outputs": [
    {
     "data": {
      "text/plain": [
       "(50, 27)"
      ]
     },
     "execution_count": 34,
     "metadata": {},
     "output_type": "execute_result"
    }
   ],
   "source": [
    "net.load_file('corrected banana shared select.txt')\n",
    "df = net.export_df()\n",
    "df.shape"
   ]
  },
  {
   "cell_type": "code",
   "execution_count": 35,
   "metadata": {},
   "outputs": [
    {
     "name": "stdout",
     "output_type": "stream",
     "text": [
      "(50, 27)\n",
      "P0B0_R10    1.0\n",
      "P4B1_R10    1.0\n",
      "P0B0_R6     1.0\n",
      "P0B3_R9     1.0\n",
      "P0B1_R11    1.0\n",
      "dtype: float64\n",
      "Wall time: 52 ms\n"
     ]
    }
   ],
   "source": [
    "%%time\n",
    "ser_sum = cell_umi_count(df)\n",
    "df = df.div(ser_sum)\n",
    "print(df.shape)\n",
    "print(df.sum().head())"
   ]
  },
  {
   "cell_type": "code",
   "execution_count": 36,
   "metadata": {},
   "outputs": [
    {
     "data": {
      "text/html": [
       "<div>\n",
       "<style scoped>\n",
       "    .dataframe tbody tr th:only-of-type {\n",
       "        vertical-align: middle;\n",
       "    }\n",
       "\n",
       "    .dataframe tbody tr th {\n",
       "        vertical-align: top;\n",
       "    }\n",
       "\n",
       "    .dataframe thead th {\n",
       "        text-align: right;\n",
       "    }\n",
       "</style>\n",
       "<table border=\"1\" class=\"dataframe\">\n",
       "  <thead>\n",
       "    <tr style=\"text-align: right;\">\n",
       "      <th></th>\n",
       "      <th>P0B0_R10</th>\n",
       "      <th>P4B1_R10</th>\n",
       "      <th>P0B0_R6</th>\n",
       "      <th>P0B3_R9</th>\n",
       "      <th>P0B1_R11</th>\n",
       "      <th>P0B1_R12</th>\n",
       "      <th>P0B3_R10</th>\n",
       "      <th>P0B3_R12</th>\n",
       "      <th>P0B1_R10</th>\n",
       "      <th>P12B0R12</th>\n",
       "      <th>...</th>\n",
       "      <th>P12B3_R9</th>\n",
       "      <th>P4B0_R10</th>\n",
       "      <th>P4B0_R11</th>\n",
       "      <th>P4B0_R9</th>\n",
       "      <th>P0B0_R11</th>\n",
       "      <th>P4B1_R11</th>\n",
       "      <th>P4B1_R9</th>\n",
       "      <th>P4B3_R10</th>\n",
       "      <th>P4B3_R11</th>\n",
       "      <th>P4B3_R9</th>\n",
       "    </tr>\n",
       "  </thead>\n",
       "  <tbody>\n",
       "    <tr>\n",
       "      <th>count</th>\n",
       "      <td>50.000000</td>\n",
       "      <td>50.000000</td>\n",
       "      <td>50.000000</td>\n",
       "      <td>50.000000</td>\n",
       "      <td>50.000000</td>\n",
       "      <td>50.000000</td>\n",
       "      <td>50.000000</td>\n",
       "      <td>50.000000</td>\n",
       "      <td>50.000000</td>\n",
       "      <td>50.000000</td>\n",
       "      <td>...</td>\n",
       "      <td>50.000000</td>\n",
       "      <td>50.000000</td>\n",
       "      <td>50.000000</td>\n",
       "      <td>50.000000</td>\n",
       "      <td>50.000000</td>\n",
       "      <td>50.000000</td>\n",
       "      <td>50.000000</td>\n",
       "      <td>50.000000</td>\n",
       "      <td>50.000000</td>\n",
       "      <td>50.000000</td>\n",
       "    </tr>\n",
       "    <tr>\n",
       "      <th>mean</th>\n",
       "      <td>0.020000</td>\n",
       "      <td>0.020000</td>\n",
       "      <td>0.020000</td>\n",
       "      <td>0.020000</td>\n",
       "      <td>0.020000</td>\n",
       "      <td>0.020000</td>\n",
       "      <td>0.020000</td>\n",
       "      <td>0.020000</td>\n",
       "      <td>0.020000</td>\n",
       "      <td>0.020000</td>\n",
       "      <td>...</td>\n",
       "      <td>0.020000</td>\n",
       "      <td>0.020000</td>\n",
       "      <td>0.020000</td>\n",
       "      <td>0.020000</td>\n",
       "      <td>0.020000</td>\n",
       "      <td>0.020000</td>\n",
       "      <td>0.020000</td>\n",
       "      <td>0.020000</td>\n",
       "      <td>0.020000</td>\n",
       "      <td>0.020000</td>\n",
       "    </tr>\n",
       "    <tr>\n",
       "      <th>std</th>\n",
       "      <td>0.040362</td>\n",
       "      <td>0.043993</td>\n",
       "      <td>0.046448</td>\n",
       "      <td>0.055636</td>\n",
       "      <td>0.039453</td>\n",
       "      <td>0.049145</td>\n",
       "      <td>0.039601</td>\n",
       "      <td>0.041230</td>\n",
       "      <td>0.060889</td>\n",
       "      <td>0.046410</td>\n",
       "      <td>...</td>\n",
       "      <td>0.047408</td>\n",
       "      <td>0.044857</td>\n",
       "      <td>0.039416</td>\n",
       "      <td>0.057931</td>\n",
       "      <td>0.053935</td>\n",
       "      <td>0.042069</td>\n",
       "      <td>0.042207</td>\n",
       "      <td>0.040707</td>\n",
       "      <td>0.037683</td>\n",
       "      <td>0.041035</td>\n",
       "    </tr>\n",
       "    <tr>\n",
       "      <th>min</th>\n",
       "      <td>0.000000</td>\n",
       "      <td>0.000000</td>\n",
       "      <td>0.000000</td>\n",
       "      <td>0.000000</td>\n",
       "      <td>0.000000</td>\n",
       "      <td>0.000000</td>\n",
       "      <td>0.000000</td>\n",
       "      <td>0.000000</td>\n",
       "      <td>0.000000</td>\n",
       "      <td>0.000000</td>\n",
       "      <td>...</td>\n",
       "      <td>0.000000</td>\n",
       "      <td>0.000000</td>\n",
       "      <td>0.000000</td>\n",
       "      <td>0.000000</td>\n",
       "      <td>0.000000</td>\n",
       "      <td>0.000000</td>\n",
       "      <td>0.000000</td>\n",
       "      <td>0.000000</td>\n",
       "      <td>0.000000</td>\n",
       "      <td>0.000000</td>\n",
       "    </tr>\n",
       "    <tr>\n",
       "      <th>25%</th>\n",
       "      <td>0.000000</td>\n",
       "      <td>0.000000</td>\n",
       "      <td>0.000000</td>\n",
       "      <td>0.000000</td>\n",
       "      <td>0.000000</td>\n",
       "      <td>0.000000</td>\n",
       "      <td>0.000000</td>\n",
       "      <td>0.000000</td>\n",
       "      <td>0.000000</td>\n",
       "      <td>0.000053</td>\n",
       "      <td>...</td>\n",
       "      <td>0.000000</td>\n",
       "      <td>0.000000</td>\n",
       "      <td>0.000000</td>\n",
       "      <td>0.000000</td>\n",
       "      <td>0.000000</td>\n",
       "      <td>0.000000</td>\n",
       "      <td>0.000000</td>\n",
       "      <td>0.000000</td>\n",
       "      <td>0.000000</td>\n",
       "      <td>0.000000</td>\n",
       "    </tr>\n",
       "    <tr>\n",
       "      <th>50%</th>\n",
       "      <td>0.002136</td>\n",
       "      <td>0.001487</td>\n",
       "      <td>0.000811</td>\n",
       "      <td>0.002007</td>\n",
       "      <td>0.005276</td>\n",
       "      <td>0.001101</td>\n",
       "      <td>0.000593</td>\n",
       "      <td>0.001661</td>\n",
       "      <td>0.000474</td>\n",
       "      <td>0.001165</td>\n",
       "      <td>...</td>\n",
       "      <td>0.000850</td>\n",
       "      <td>0.000644</td>\n",
       "      <td>0.000906</td>\n",
       "      <td>0.000742</td>\n",
       "      <td>0.004396</td>\n",
       "      <td>0.003504</td>\n",
       "      <td>0.001938</td>\n",
       "      <td>0.000952</td>\n",
       "      <td>0.001711</td>\n",
       "      <td>0.000643</td>\n",
       "    </tr>\n",
       "    <tr>\n",
       "      <th>75%</th>\n",
       "      <td>0.022533</td>\n",
       "      <td>0.013307</td>\n",
       "      <td>0.009007</td>\n",
       "      <td>0.006794</td>\n",
       "      <td>0.019206</td>\n",
       "      <td>0.013433</td>\n",
       "      <td>0.013249</td>\n",
       "      <td>0.015412</td>\n",
       "      <td>0.011909</td>\n",
       "      <td>0.017366</td>\n",
       "      <td>...</td>\n",
       "      <td>0.009405</td>\n",
       "      <td>0.023166</td>\n",
       "      <td>0.016100</td>\n",
       "      <td>0.013173</td>\n",
       "      <td>0.010204</td>\n",
       "      <td>0.016329</td>\n",
       "      <td>0.015279</td>\n",
       "      <td>0.024191</td>\n",
       "      <td>0.023614</td>\n",
       "      <td>0.019610</td>\n",
       "    </tr>\n",
       "    <tr>\n",
       "      <th>max</th>\n",
       "      <td>0.212730</td>\n",
       "      <td>0.207553</td>\n",
       "      <td>0.257059</td>\n",
       "      <td>0.284435</td>\n",
       "      <td>0.207894</td>\n",
       "      <td>0.240476</td>\n",
       "      <td>0.142228</td>\n",
       "      <td>0.176818</td>\n",
       "      <td>0.359461</td>\n",
       "      <td>0.256883</td>\n",
       "      <td>...</td>\n",
       "      <td>0.249309</td>\n",
       "      <td>0.222866</td>\n",
       "      <td>0.209499</td>\n",
       "      <td>0.311688</td>\n",
       "      <td>0.322763</td>\n",
       "      <td>0.195946</td>\n",
       "      <td>0.200228</td>\n",
       "      <td>0.244289</td>\n",
       "      <td>0.188455</td>\n",
       "      <td>0.242606</td>\n",
       "    </tr>\n",
       "  </tbody>\n",
       "</table>\n",
       "<p>8 rows × 27 columns</p>\n",
       "</div>"
      ],
      "text/plain": [
       "        P0B0_R10   P4B1_R10    P0B0_R6    P0B3_R9   P0B1_R11   P0B1_R12  \\\n",
       "count  50.000000  50.000000  50.000000  50.000000  50.000000  50.000000   \n",
       "mean    0.020000   0.020000   0.020000   0.020000   0.020000   0.020000   \n",
       "std     0.040362   0.043993   0.046448   0.055636   0.039453   0.049145   \n",
       "min     0.000000   0.000000   0.000000   0.000000   0.000000   0.000000   \n",
       "25%     0.000000   0.000000   0.000000   0.000000   0.000000   0.000000   \n",
       "50%     0.002136   0.001487   0.000811   0.002007   0.005276   0.001101   \n",
       "75%     0.022533   0.013307   0.009007   0.006794   0.019206   0.013433   \n",
       "max     0.212730   0.207553   0.257059   0.284435   0.207894   0.240476   \n",
       "\n",
       "        P0B3_R10   P0B3_R12   P0B1_R10   P12B0R12  ...   P12B3_R9   P4B0_R10  \\\n",
       "count  50.000000  50.000000  50.000000  50.000000  ...  50.000000  50.000000   \n",
       "mean    0.020000   0.020000   0.020000   0.020000  ...   0.020000   0.020000   \n",
       "std     0.039601   0.041230   0.060889   0.046410  ...   0.047408   0.044857   \n",
       "min     0.000000   0.000000   0.000000   0.000000  ...   0.000000   0.000000   \n",
       "25%     0.000000   0.000000   0.000000   0.000053  ...   0.000000   0.000000   \n",
       "50%     0.000593   0.001661   0.000474   0.001165  ...   0.000850   0.000644   \n",
       "75%     0.013249   0.015412   0.011909   0.017366  ...   0.009405   0.023166   \n",
       "max     0.142228   0.176818   0.359461   0.256883  ...   0.249309   0.222866   \n",
       "\n",
       "        P4B0_R11    P4B0_R9   P0B0_R11   P4B1_R11    P4B1_R9   P4B3_R10  \\\n",
       "count  50.000000  50.000000  50.000000  50.000000  50.000000  50.000000   \n",
       "mean    0.020000   0.020000   0.020000   0.020000   0.020000   0.020000   \n",
       "std     0.039416   0.057931   0.053935   0.042069   0.042207   0.040707   \n",
       "min     0.000000   0.000000   0.000000   0.000000   0.000000   0.000000   \n",
       "25%     0.000000   0.000000   0.000000   0.000000   0.000000   0.000000   \n",
       "50%     0.000906   0.000742   0.004396   0.003504   0.001938   0.000952   \n",
       "75%     0.016100   0.013173   0.010204   0.016329   0.015279   0.024191   \n",
       "max     0.209499   0.311688   0.322763   0.195946   0.200228   0.244289   \n",
       "\n",
       "        P4B3_R11    P4B3_R9  \n",
       "count  50.000000  50.000000  \n",
       "mean    0.020000   0.020000  \n",
       "std     0.037683   0.041035  \n",
       "min     0.000000   0.000000  \n",
       "25%     0.000000   0.000000  \n",
       "50%     0.001711   0.000643  \n",
       "75%     0.023614   0.019610  \n",
       "max     0.188455   0.242606  \n",
       "\n",
       "[8 rows x 27 columns]"
      ]
     },
     "execution_count": 36,
     "metadata": {},
     "output_type": "execute_result"
    }
   ],
   "source": [
    "df.describe()"
   ]
  },
  {
   "cell_type": "markdown",
   "metadata": {},
   "source": [
    "# Make sqrt transformations and normalize data"
   ]
  },
  {
   "cell_type": "code",
   "execution_count": 37,
   "metadata": {},
   "outputs": [
    {
     "name": "stdout",
     "output_type": "stream",
     "text": [
      "(50, 27)\n"
     ]
    }
   ],
   "source": [
    "# ArcSinh transform\n",
    "#df = np.arcsinh(df/5)\n",
    "\n",
    "#Sqrttransform\n",
    "df = np.sqrt(df)\n",
    "df1 = np.sqrt(df)\n",
    "\n",
    "# Z-score genes\n",
    "net.load_df(df)\n",
    "net.normalize(axis='row', norm_type='zscore')\n",
    "\n",
    "# round to two decimal points\n",
    "df = net.export_df().round(2)\n",
    "\n",
    "print(df.shape)"
   ]
  },
  {
   "cell_type": "markdown",
   "metadata": {},
   "source": [
    "# Run Clustergrammer"
   ]
  },
  {
   "cell_type": "code",
   "execution_count": 38,
   "metadata": {},
   "outputs": [
    {
     "data": {
      "application/vnd.jupyter.widget-view+json": {
       "model_id": "342c2bdb83dd44359b86116d4c6898cc",
       "version_major": 2,
       "version_minor": 0
      },
      "text/plain": [
       "RXhhbXBsZVdpZGdldChuZXR3b3JrPXUneyJtYXQiOiBbWy0wLjMyLCAtMC41NiwgLTAuMzUsIDAuMzYsIDAuMDUsIC0wLjMzLCAtMC43MywgLTMuMDgsIDAuODYsIDAuMTEsIDAuMjcsIC0xLjTigKY=\n"
      ]
     },
     "metadata": {},
     "output_type": "display_data"
    }
   ],
   "source": [
    "net.load_df(df)\n",
    "#net.cluster()\n",
    "net.widget()"
   ]
  },
  {
   "cell_type": "markdown",
   "metadata": {},
   "source": [
    "# Fourth root transformation and clustergrammer"
   ]
  },
  {
   "cell_type": "code",
   "execution_count": 39,
   "metadata": {},
   "outputs": [
    {
     "name": "stdout",
     "output_type": "stream",
     "text": [
      "(50, 27)\n"
     ]
    }
   ],
   "source": [
    "# Z-score genes\n",
    "net.load_df(df1)\n",
    "net.normalize(axis='row', norm_type='zscore')\n",
    "\n",
    "# round to two decimal points\n",
    "df1 = net.export_df().round(2)\n",
    "\n",
    "print(df1.shape)"
   ]
  },
  {
   "cell_type": "code",
   "execution_count": 40,
   "metadata": {},
   "outputs": [
    {
     "data": {
      "application/vnd.jupyter.widget-view+json": {
       "model_id": "e0acf5388bf14550bcefd6b03e40122c",
       "version_major": 2,
       "version_minor": 0
      },
      "text/plain": [
       "RXhhbXBsZVdpZGdldChuZXR3b3JrPXUneyJtYXQiOiBbWy0wLjI0LCAtMC40NywgLTAuMjcsIDAuMzgsIDAuMSwgLTAuMjUsIC0wLjY0LCAtMy41MSwgMC44MSwgMC4xNiwgMC4zLCAtMS4zNyzigKY=\n"
      ]
     },
     "metadata": {},
     "output_type": "display_data"
    }
   ],
   "source": [
    "net.load_df(df1)\n",
    "#net.cluster()\n",
    "net.widget()"
   ]
  },
  {
   "cell_type": "code",
   "execution_count": null,
   "metadata": {},
   "outputs": [],
   "source": []
  }
 ],
 "metadata": {
  "kernelspec": {
   "display_name": "Python 2",
   "language": "python",
   "name": "python2"
  },
  "language_info": {
   "codemirror_mode": {
    "name": "ipython",
    "version": 2
   },
   "file_extension": ".py",
   "mimetype": "text/x-python",
   "name": "python",
   "nbconvert_exporter": "python",
   "pygments_lexer": "ipython2",
   "version": "2.7.16"
  }
 },
 "nbformat": 4,
 "nbformat_minor": 4
}

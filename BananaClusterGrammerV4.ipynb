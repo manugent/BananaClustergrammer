{
 "cells": [
  {
   "cell_type": "code",
   "execution_count": null,
   "metadata": {},
   "outputs": [],
   "source": [
    "#! pip install clustergrammer2\n",
    "#! jupyter labextension install @jupyter-widgets/jupyterlab-manager"
   ]
  },
  {
   "cell_type": "code",
   "execution_count": 26,
   "metadata": {},
   "outputs": [],
   "source": [
    "import numpy as np\n",
    "import pandas as pd\n",
    "from clustergrammer2 import net\n",
    "import warnings\n",
    "warnings.filterwarnings('ignore')"
   ]
  },
  {
   "cell_type": "code",
   "execution_count": 27,
   "metadata": {},
   "outputs": [],
   "source": [
    "from sklearn.metrics import f1_score\n",
    "from copy import deepcopy"
   ]
  },
  {
   "cell_type": "code",
   "execution_count": 28,
   "metadata": {},
   "outputs": [],
   "source": [
    "import matplotlib.pyplot as plt\n",
    "%matplotlib inline"
   ]
  },
  {
   "cell_type": "code",
   "execution_count": 29,
   "metadata": {},
   "outputs": [],
   "source": [
    "def cell_umi_count(df):\n",
    "    sum_arr = []\n",
    "    sum_names = []\n",
    "    for inst_cell in df:\n",
    "        sum_arr.append( df[inst_cell].sum() )\n",
    "        sum_names.append(inst_cell)\n",
    "    \n",
    "    ser_sum = pd.Series(data=sum_arr, index=sum_names)\n",
    "    return ser_sum"
   ]
  },
  {
   "cell_type": "code",
   "execution_count": 30,
   "metadata": {},
   "outputs": [
    {
     "data": {
      "text/plain": [
       "(41, 27)"
      ]
     },
     "execution_count": 30,
     "metadata": {},
     "output_type": "execute_result"
    }
   ],
   "source": [
    "net.load_file('Bananas_not_transformed_abundance_similarity_V2.txt')\n",
    "df = net.export_df()\n",
    "df.shape"
   ]
  },
  {
   "cell_type": "code",
   "execution_count": 31,
   "metadata": {},
   "outputs": [
    {
     "name": "stdout",
     "output_type": "stream",
     "text": [
      "(41, 27)\n",
      "P0B0_R10    1.0\n",
      "P0B0_R11    1.0\n",
      "P0B0_R6     1.0\n",
      "P0B1_R10    1.0\n",
      "P0B1_R11    1.0\n",
      "dtype: float64\n",
      "Wall time: 24 ms\n"
     ]
    }
   ],
   "source": [
    "%%time\n",
    "ser_sum = cell_umi_count(df)\n",
    "df = df.div(ser_sum)\n",
    "print(df.shape)\n",
    "print(df.sum().head())"
   ]
  },
  {
   "cell_type": "code",
   "execution_count": 32,
   "metadata": {},
   "outputs": [
    {
     "name": "stdout",
     "output_type": "stream",
     "text": [
      "(41, 27)\n"
     ]
    }
   ],
   "source": [
    "# ArcSinh transform\n",
    "df = np.arcsinh(df/5)\n",
    "\n",
    "# Z-score genes\n",
    "net.load_df(df)\n",
    "net.normalize(axis='row', norm_type='zscore')\n",
    "\n",
    "# round to two decimal points\n",
    "df = net.export_df().round(2)\n",
    "\n",
    "print(df.shape)"
   ]
  },
  {
   "cell_type": "code",
   "execution_count": 33,
   "metadata": {},
   "outputs": [
    {
     "data": {
      "application/vnd.jupyter.widget-view+json": {
       "model_id": "b8ae5a13b1b149d28bd0593b12854d97",
       "version_major": 2,
       "version_minor": 0
      },
      "text/plain": [
       "RXhhbXBsZVdpZGdldChuZXR3b3JrPXUneyJtYXQiOiBbWy0wLjY0LCAxLjE1LCAtMC43OSwgMi4zNywgMC40NywgLTAuOSwgMC4xNCwgLTIuNDQsIDAuNDIsIDAuNDIsIDAuMDcsIC0xLjAxLCDigKY=\n"
      ]
     },
     "metadata": {},
     "output_type": "display_data"
    }
   ],
   "source": [
    "net.load_df(df)\n",
    "#net.cluster()\n",
    "net.widget()"
   ]
  },
  {
   "cell_type": "code",
   "execution_count": null,
   "metadata": {},
   "outputs": [],
   "source": []
  }
 ],
 "metadata": {
  "kernelspec": {
   "display_name": "Python 2",
   "language": "python",
   "name": "python2"
  },
  "language_info": {
   "codemirror_mode": {
    "name": "ipython",
    "version": 2
   },
   "file_extension": ".py",
   "mimetype": "text/x-python",
   "name": "python",
   "nbconvert_exporter": "python",
   "pygments_lexer": "ipython2",
   "version": "2.7.16"
  }
 },
 "nbformat": 4,
 "nbformat_minor": 4
}

{
 "cells": [
  {
   "cell_type": "code",
   "execution_count": 1,
   "metadata": {},
   "outputs": [
    {
     "name": "stdout",
     "output_type": "stream",
     "text": [
      "Requirement already satisfied: clustergrammer2 in c:\\programdata\\anaconda2\\lib\\site-packages (0.5.18)\n",
      "Requirement already satisfied: ipywidgets>=7.0.0 in c:\\programdata\\anaconda2\\lib\\site-packages (from clustergrammer2) (7.5.1)\n",
      "Requirement already satisfied: ipython<6.0.0,>=4.0.0; python_version < \"3.3\" in c:\\programdata\\anaconda2\\lib\\site-packages (from ipywidgets>=7.0.0->clustergrammer2) (5.8.0)\n",
      "Requirement already satisfied: ipykernel>=4.5.1 in c:\\programdata\\anaconda2\\lib\\site-packages (from ipywidgets>=7.0.0->clustergrammer2) (4.10.0)\n",
      "Requirement already satisfied: nbformat>=4.2.0 in c:\\programdata\\anaconda2\\lib\\site-packages (from ipywidgets>=7.0.0->clustergrammer2) (4.4.0)\n",
      "Requirement already satisfied: traitlets>=4.3.1 in c:\\programdata\\anaconda2\\lib\\site-packages (from ipywidgets>=7.0.0->clustergrammer2) (4.3.3)\n",
      "Requirement already satisfied: widgetsnbextension~=3.5.0 in c:\\programdata\\anaconda2\\lib\\site-packages (from ipywidgets>=7.0.0->clustergrammer2) (3.5.1)\n",
      "Requirement already satisfied: prompt-toolkit<2.0.0,>=1.0.4 in c:\\programdata\\anaconda2\\lib\\site-packages (from ipython<6.0.0,>=4.0.0; python_version < \"3.3\"->ipywidgets>=7.0.0->clustergrammer2) (1.0.15)\n",
      "Requirement already satisfied: setuptools>=18.5 in c:\\programdata\\anaconda2\\lib\\site-packages (from ipython<6.0.0,>=4.0.0; python_version < \"3.3\"->ipywidgets>=7.0.0->clustergrammer2) (41.4.0)\n",
      "Requirement already satisfied: decorator in c:\\programdata\\anaconda2\\lib\\site-packages (from ipython<6.0.0,>=4.0.0; python_version < \"3.3\"->ipywidgets>=7.0.0->clustergrammer2) (4.4.0)\n",
      "Requirement already satisfied: pickleshare in c:\\programdata\\anaconda2\\lib\\site-packages (from ipython<6.0.0,>=4.0.0; python_version < \"3.3\"->ipywidgets>=7.0.0->clustergrammer2) (0.7.5)\n",
      "Requirement already satisfied: win-unicode-console>=0.5; sys_platform == \"win32\" and python_version < \"3.6\" in c:\\programdata\\anaconda2\\lib\\site-packages (from ipython<6.0.0,>=4.0.0; python_version < \"3.3\"->ipywidgets>=7.0.0->clustergrammer2) (0.5)\n",
      "Requirement already satisfied: pygments in c:\\programdata\\anaconda2\\lib\\site-packages (from ipython<6.0.0,>=4.0.0; python_version < \"3.3\"->ipywidgets>=7.0.0->clustergrammer2) (2.4.2)\n",
      "Requirement already satisfied: pathlib2; python_version == \"2.7\" or python_version == \"3.3\" in c:\\programdata\\anaconda2\\lib\\site-packages (from ipython<6.0.0,>=4.0.0; python_version < \"3.3\"->ipywidgets>=7.0.0->clustergrammer2) (2.3.5)\n",
      "Requirement already satisfied: backports.shutil-get-terminal-size; python_version == \"2.7\" in c:\\programdata\\anaconda2\\lib\\site-packages (from ipython<6.0.0,>=4.0.0; python_version < \"3.3\"->ipywidgets>=7.0.0->clustergrammer2) (1.0.0)\n",
      "Requirement already satisfied: colorama; sys_platform == \"win32\" in c:\\programdata\\anaconda2\\lib\\site-packages (from ipython<6.0.0,>=4.0.0; python_version < \"3.3\"->ipywidgets>=7.0.0->clustergrammer2) (0.4.1)\n",
      "Requirement already satisfied: simplegeneric>0.8 in c:\\programdata\\anaconda2\\lib\\site-packages (from ipython<6.0.0,>=4.0.0; python_version < \"3.3\"->ipywidgets>=7.0.0->clustergrammer2) (0.8.1)\n",
      "Requirement already satisfied: jupyter_client in c:\\programdata\\anaconda2\\lib\\site-packages (from ipykernel>=4.5.1->ipywidgets>=7.0.0->clustergrammer2) (5.3.3)\n",
      "Requirement already satisfied: tornado>=4.0 in c:\\programdata\\anaconda2\\lib\\site-packages (from ipykernel>=4.5.1->ipywidgets>=7.0.0->clustergrammer2) (5.1.1)\n",
      "Requirement already satisfied: ipython_genutils in c:\\programdata\\anaconda2\\lib\\site-packages (from nbformat>=4.2.0->ipywidgets>=7.0.0->clustergrammer2) (0.2.0)\n",
      "Requirement already satisfied: jsonschema!=2.5.0,>=2.4 in c:\\programdata\\anaconda2\\lib\\site-packages (from nbformat>=4.2.0->ipywidgets>=7.0.0->clustergrammer2) (3.0.2)\n",
      "Requirement already satisfied: jupyter_core in c:\\programdata\\anaconda2\\lib\\site-packages (from nbformat>=4.2.0->ipywidgets>=7.0.0->clustergrammer2) (4.5.0)\n",
      "Requirement already satisfied: six in c:\\programdata\\anaconda2\\lib\\site-packages (from traitlets>=4.3.1->ipywidgets>=7.0.0->clustergrammer2) (1.12.0)\n",
      "Requirement already satisfied: enum34; python_version == \"2.7\" in c:\\programdata\\anaconda2\\lib\\site-packages (from traitlets>=4.3.1->ipywidgets>=7.0.0->clustergrammer2) (1.1.6)\n",
      "Requirement already satisfied: notebook>=4.4.1 in c:\\programdata\\anaconda2\\lib\\site-packages (from widgetsnbextension~=3.5.0->ipywidgets>=7.0.0->clustergrammer2) (5.7.8)\n",
      "Requirement already satisfied: wcwidth in c:\\programdata\\anaconda2\\lib\\site-packages (from prompt-toolkit<2.0.0,>=1.0.4->ipython<6.0.0,>=4.0.0; python_version < \"3.3\"->ipywidgets>=7.0.0->clustergrammer2) (0.1.7)\n",
      "Requirement already satisfied: scandir; python_version < \"3.5\" in c:\\programdata\\anaconda2\\lib\\site-packages (from pathlib2; python_version == \"2.7\" or python_version == \"3.3\"->ipython<6.0.0,>=4.0.0; python_version < \"3.3\"->ipywidgets>=7.0.0->clustergrammer2) (1.10.0)\n",
      "Requirement already satisfied: pyzmq>=13 in c:\\programdata\\anaconda2\\lib\\site-packages (from jupyter_client->ipykernel>=4.5.1->ipywidgets>=7.0.0->clustergrammer2) (18.1.0)\n",
      "Requirement already satisfied: python-dateutil>=2.1 in c:\\programdata\\anaconda2\\lib\\site-packages (from jupyter_client->ipykernel>=4.5.1->ipywidgets>=7.0.0->clustergrammer2) (2.8.0)\n",
      "Requirement already satisfied: pywin32>=1.0; sys_platform == \"win32\" in c:\\programdata\\anaconda2\\lib\\site-packages (from jupyter_client->ipykernel>=4.5.1->ipywidgets>=7.0.0->clustergrammer2) (223)\n",
      "Requirement already satisfied: futures in c:\\programdata\\anaconda2\\lib\\site-packages (from tornado>=4.0->ipykernel>=4.5.1->ipywidgets>=7.0.0->clustergrammer2) (3.3.0)\n",
      "Requirement already satisfied: singledispatch in c:\\programdata\\anaconda2\\lib\\site-packages (from tornado>=4.0->ipykernel>=4.5.1->ipywidgets>=7.0.0->clustergrammer2) (3.4.0.3)\n",
      "Requirement already satisfied: backports_abc>=0.4 in c:\\programdata\\anaconda2\\lib\\site-packages (from tornado>=4.0->ipykernel>=4.5.1->ipywidgets>=7.0.0->clustergrammer2) (0.5)\n",
      "Requirement already satisfied: pyrsistent>=0.14.0 in c:\\programdata\\anaconda2\\lib\\site-packages (from jsonschema!=2.5.0,>=2.4->nbformat>=4.2.0->ipywidgets>=7.0.0->clustergrammer2) (0.15.4)\n",
      "Requirement already satisfied: functools32; python_version < \"3\" in c:\\programdata\\anaconda2\\lib\\site-packages (from jsonschema!=2.5.0,>=2.4->nbformat>=4.2.0->ipywidgets>=7.0.0->clustergrammer2) (3.2.3.post2)\n",
      "Requirement already satisfied: attrs>=17.4.0 in c:\\programdata\\anaconda2\\lib\\site-packages (from jsonschema!=2.5.0,>=2.4->nbformat>=4.2.0->ipywidgets>=7.0.0->clustergrammer2) (19.2.0)\n",
      "Requirement already satisfied: nbconvert in c:\\programdata\\anaconda2\\lib\\site-packages (from notebook>=4.4.1->widgetsnbextension~=3.5.0->ipywidgets>=7.0.0->clustergrammer2) (5.6.0)\n",
      "Requirement already satisfied: prometheus-client in c:\\programdata\\anaconda2\\lib\\site-packages (from notebook>=4.4.1->widgetsnbextension~=3.5.0->ipywidgets>=7.0.0->clustergrammer2) (0.7.1)\n",
      "Requirement already satisfied: jinja2 in c:\\programdata\\anaconda2\\lib\\site-packages (from notebook>=4.4.1->widgetsnbextension~=3.5.0->ipywidgets>=7.0.0->clustergrammer2) (2.10.3)\n",
      "Requirement already satisfied: ipaddress; python_version == \"2.7\" in c:\\programdata\\anaconda2\\lib\\site-packages (from notebook>=4.4.1->widgetsnbextension~=3.5.0->ipywidgets>=7.0.0->clustergrammer2) (1.0.22)\n",
      "Requirement already satisfied: terminado>=0.8.1 in c:\\programdata\\anaconda2\\lib\\site-packages (from notebook>=4.4.1->widgetsnbextension~=3.5.0->ipywidgets>=7.0.0->clustergrammer2) (0.8.2)\n",
      "Requirement already satisfied: Send2Trash in c:\\programdata\\anaconda2\\lib\\site-packages (from notebook>=4.4.1->widgetsnbextension~=3.5.0->ipywidgets>=7.0.0->clustergrammer2) (1.5.0)\n",
      "Requirement already satisfied: entrypoints>=0.2.2 in c:\\programdata\\anaconda2\\lib\\site-packages (from nbconvert->notebook>=4.4.1->widgetsnbextension~=3.5.0->ipywidgets>=7.0.0->clustergrammer2) (0.3)\n",
      "Requirement already satisfied: testpath in c:\\programdata\\anaconda2\\lib\\site-packages (from nbconvert->notebook>=4.4.1->widgetsnbextension~=3.5.0->ipywidgets>=7.0.0->clustergrammer2) (0.4.2)\n",
      "Requirement already satisfied: pandocfilters>=1.4.1 in c:\\programdata\\anaconda2\\lib\\site-packages (from nbconvert->notebook>=4.4.1->widgetsnbextension~=3.5.0->ipywidgets>=7.0.0->clustergrammer2) (1.4.2)\n",
      "Requirement already satisfied: defusedxml in c:\\programdata\\anaconda2\\lib\\site-packages (from nbconvert->notebook>=4.4.1->widgetsnbextension~=3.5.0->ipywidgets>=7.0.0->clustergrammer2) (0.6.0)\n",
      "Requirement already satisfied: mistune<2,>=0.8.1 in c:\\programdata\\anaconda2\\lib\\site-packages (from nbconvert->notebook>=4.4.1->widgetsnbextension~=3.5.0->ipywidgets>=7.0.0->clustergrammer2) (0.8.4)\n",
      "Requirement already satisfied: bleach in c:\\programdata\\anaconda2\\lib\\site-packages (from nbconvert->notebook>=4.4.1->widgetsnbextension~=3.5.0->ipywidgets>=7.0.0->clustergrammer2) (3.1.0)\n",
      "Requirement already satisfied: MarkupSafe>=0.23 in c:\\programdata\\anaconda2\\lib\\site-packages (from jinja2->notebook>=4.4.1->widgetsnbextension~=3.5.0->ipywidgets>=7.0.0->clustergrammer2) (1.1.1)\n",
      "Requirement already satisfied: webencodings in c:\\programdata\\anaconda2\\lib\\site-packages (from bleach->nbconvert->notebook>=4.4.1->widgetsnbextension~=3.5.0->ipywidgets>=7.0.0->clustergrammer2) (0.5.1)\n"
     ]
    },
    {
     "name": "stderr",
     "output_type": "stream",
     "text": [
      "DEPRECATION: Python 2.7 will reach the end of its life on January 1st, 2020. Please upgrade your Python as Python 2.7 won't be maintained after that date. A future version of pip will drop support for Python 2.7. More details about Python 2 support in pip, can be found at https://pip.pypa.io/en/latest/development/release-process/#python-2-support\n",
      "Access is denied.\n"
     ]
    }
   ],
   "source": [
    "! pip install clustergrammer2\n",
    "! jupyter labextension install @jupyter-widgets/jupyterlab-manager"
   ]
  },
  {
   "cell_type": "code",
   "execution_count": 2,
   "metadata": {},
   "outputs": [],
   "source": [
    "import numpy as np\n",
    "import pandas as pd\n",
    "from clustergrammer2 import net\n",
    "import warnings\n",
    "warnings.filterwarnings('ignore')"
   ]
  },
  {
   "cell_type": "code",
   "execution_count": 3,
   "metadata": {},
   "outputs": [],
   "source": [
    "from sklearn.metrics import f1_score\n",
    "from copy import deepcopy"
   ]
  },
  {
   "cell_type": "code",
   "execution_count": 4,
   "metadata": {},
   "outputs": [],
   "source": [
    "import matplotlib.pyplot as plt\n",
    "%matplotlib inline"
   ]
  },
  {
   "cell_type": "code",
   "execution_count": 5,
   "metadata": {},
   "outputs": [],
   "source": [
    "def cell_umi_count(df):\n",
    "    sum_arr = []\n",
    "    sum_names = []\n",
    "    for inst_cell in df:\n",
    "        sum_arr.append( df[inst_cell].sum() )\n",
    "        sum_names.append(inst_cell)\n",
    "    \n",
    "    ser_sum = pd.Series(data=sum_arr, index=sum_names)\n",
    "    return ser_sum"
   ]
  },
  {
   "cell_type": "code",
   "execution_count": 6,
   "metadata": {},
   "outputs": [
    {
     "data": {
      "text/plain": [
       "(5909, 27)"
      ]
     },
     "execution_count": 6,
     "metadata": {},
     "output_type": "execute_result"
    }
   ],
   "source": [
    "net.load_file('EPADataV1.txt')\n",
    "df = net.export_df()\n",
    "df.shape"
   ]
  },
  {
   "cell_type": "code",
   "execution_count": 7,
   "metadata": {},
   "outputs": [
    {
     "name": "stdout",
     "output_type": "stream",
     "text": [
      "(5909, 27)\n",
      "P0B0_R10    1.0\n",
      "P0B0_R11    1.0\n",
      "P0B0_R6     1.0\n",
      "P0B1_R10    1.0\n",
      "P0B1_R11    1.0\n",
      "dtype: float64\n",
      "Wall time: 58 ms\n"
     ]
    }
   ],
   "source": [
    "%%time\n",
    "ser_sum = cell_umi_count(df)\n",
    "df = df.div(ser_sum)\n",
    "print(df.shape)\n",
    "print(df.sum().head())"
   ]
  },
  {
   "cell_type": "code",
   "execution_count": 8,
   "metadata": {},
   "outputs": [
    {
     "name": "stdout",
     "output_type": "stream",
     "text": [
      "(5909, 27)\n"
     ]
    }
   ],
   "source": [
    "# ArcSinh transform\n",
    "df = np.arcsinh(df/5)\n",
    "\n",
    "# Z-score genes\n",
    "net.load_df(df)\n",
    "net.normalize(axis='row', norm_type='zscore')\n",
    "\n",
    "# round to two decimal points\n",
    "df = net.export_df().round(2)\n",
    "\n",
    "print(df.shape)"
   ]
  },
  {
   "cell_type": "code",
   "execution_count": 9,
   "metadata": {},
   "outputs": [
    {
     "data": {
      "application/vnd.jupyter.widget-view+json": {
       "model_id": "82e86ad32aae45489155c21d0ec773b5",
       "version_major": 2,
       "version_minor": 0
      },
      "text/plain": [
       "RXhhbXBsZVdpZGdldChuZXR3b3JrPXUneyJtYXQiOiBbWy0xLjI2LCAwLjgzLCAtMC45NiwgLTAuMzgsIDAuMTYsIC0wLjMxLCAtMC4xOCwgLTIuMTQsIDEuNDcsIDAuMjEsIDAuNDQsIC0xLjHigKY=\n"
      ]
     },
     "metadata": {},
     "output_type": "display_data"
    }
   ],
   "source": [
    "net.load_df(df)\n",
    "#net.cluster()\n",
    "net.widget()"
   ]
  },
  {
   "cell_type": "code",
   "execution_count": 32,
   "metadata": {},
   "outputs": [],
   "source": [
    "from ipywidgets import IntSlider\n",
    "from ipywidgets.embed import embed_minimal_html, dependency_state\n",
    "\n",
    "s1 = IntSlider(max=5909, value=2000)\n",
    "s2 = IntSlider(value=27)\n",
    "embed_minimal_html('export2112.html', views=[s1, s2], state=dependency_state([s1, s2]))"
   ]
  },
  {
   "cell_type": "code",
   "execution_count": 36,
   "metadata": {},
   "outputs": [
    {
     "data": {
      "application/vnd.jupyter.widget-view+json": {
       "model_id": "6eace1de68e24d5689b675650e7c7c22",
       "version_major": 2,
       "version_minor": 0
      },
      "text/plain": [
       "IntSlider(value=0)"
      ]
     },
     "metadata": {},
     "output_type": "display_data"
    }
   ],
   "source": [
    "from ipywidgets import IntSlider, widgets\n",
    "from ipywidgets.embed import embed_minimal_html\n",
    "\n",
    "slider = IntSlider(value=5909)\n",
    "w = widgets.IntSlider()\n",
    "display(w)\n",
    "embed_minimal_html('export3.html', views=[slider], title='Widgets export')"
   ]
  },
  {
   "cell_type": "code",
   "execution_count": null,
   "metadata": {},
   "outputs": [],
   "source": []
  }
 ],
 "metadata": {
  "kernelspec": {
   "display_name": "Python 2",
   "language": "python",
   "name": "python2"
  },
  "language_info": {
   "codemirror_mode": {
    "name": "ipython",
    "version": 2
   },
   "file_extension": ".py",
   "mimetype": "text/x-python",
   "name": "python",
   "nbconvert_exporter": "python",
   "pygments_lexer": "ipython2",
   "version": "2.7.16"
  }
 },
 "nbformat": 4,
 "nbformat_minor": 4
}

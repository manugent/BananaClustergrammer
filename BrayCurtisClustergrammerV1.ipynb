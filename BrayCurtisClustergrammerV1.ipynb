{
 "cells": [
  {
   "cell_type": "markdown",
   "metadata": {},
   "source": [
    "# Interactive Heatmap for the Banana Dataset"
   ]
  },
  {
   "cell_type": "markdown",
   "metadata": {},
   "source": [
    "#### Sources to find Clustergrammer Info\n",
    "##### https://clustergrammer.readthedocs.io/interacting_with_viz.html#interactive-dendrogram\n",
    "##### https://clustergrammer.readthedocs.io/clustergrammer_py.html#clustergrammer-py\n",
    "##### https://clustergrammer.readthedocs.io/building_webpage.html#building-web-page\n",
    "\n",
    "#### Sources to find scipy  package info\n",
    "##### https://docs.scipy.org/doc/scipy/reference/generated/scipy.spatial.distance.pdist.html\n",
    "\n",
    "#### Github Site\n",
    "##### https://github.com/MaayanLab/clustergrammer-py/blob/master/clustergrammer/calc_clust.py\n",
    "##### https://github.com/MaayanLab/clustergrammer-py/blob/master/clustergrammer/__init__.py"
   ]
  },
  {
   "cell_type": "markdown",
   "metadata": {},
   "source": [
    "### Locating the top 50 highest contrib% OTUs from disimilarity tests into a simper1.csv file "
   ]
  },
  {
   "cell_type": "markdown",
   "metadata": {},
   "source": [
    "##### *I began by deleting the similarity test info from the 3_SIMPER_1 file"
   ]
  },
  {
   "cell_type": "code",
   "execution_count": 24,
   "metadata": {},
   "outputs": [],
   "source": [
    "f = open(\"3_SIMPER_1_revised.txt\", \"r\")      # open x.txt for reading text\n",
    "contents = f.read()                          # read the entire file into a string\n",
    "f.close()                                    # close the file\n",
    "#print(contents)                             # print contents"
   ]
  },
  {
   "cell_type": "code",
   "execution_count": 25,
   "metadata": {},
   "outputs": [],
   "source": [
    "import re\n",
    "import csv\n",
    "errors = []\n",
    "\n",
    "#pattern = re.compile(r\"(\\+\\d{1,2})?[\\s.-]?\\d{3}[\\s.-]?\\d{4}\")\n",
    "#pattern = re.compile(r\"Average?[\\s.-]?similarity\")\n",
    "#from linecache import getline\n",
    "import csv\n",
    "otuDic={}\n",
    "with open(\"3_SIMPER_1_revised.txt\") as f:\n",
    "    \n",
    "    line= f.readline()\n",
    "    while line:\n",
    "        if line.startswith(\"Species\"):\n",
    "            linenum= 0\n",
    "            line= f.readline()\n",
    "            while(line.startswith(\"Otu\") and linenum<50): #takes 50 lines after \"species\"\n",
    "                \n",
    "                linenum+= 1\n",
    "                feature = line.split('\\t')\n",
    "                \n",
    "                if feature[0] in otuDic:\n",
    "                    otuDic[feature[0]] += 1\n",
    "                else:\n",
    "                    otuDic[feature[0]] = 1\n",
    "                line = f.readline()\n",
    "        else:\n",
    "            line= f.readline()\n",
    "            continue\n",
    "\n",
    "\n",
    "#for elem in sorted(otuDic.items(), key=lambda x: x[1], reverse=True) :\n",
    "    #print(elem[0] ,  elem[1])\n",
    "\n",
    "with open('simper1.csv', 'w') as csvfile:\n",
    "    fieldnames = ['OTU', 'Frequency']\n",
    "    writer = csv.DictWriter(csvfile, fieldnames=fieldnames, lineterminator = '\\n')\n",
    "    writer.writerow({'OTU':'OTU', 'Frequency': 'Frequency'})\n",
    "    for elem in sorted(otuDic.items(), key=lambda x: x[1], reverse=True) :\n",
    "        writer.writerow({'OTU': elem[0], 'Frequency':  elem[1]})"
   ]
  },
  {
   "cell_type": "markdown",
   "metadata": {},
   "source": [
    "### Extract top fifty OTU ranked by frequency from the simper1 file into a simper2 file"
   ]
  },
  {
   "cell_type": "code",
   "execution_count": 26,
   "metadata": {},
   "outputs": [],
   "source": [
    "i = 0\n",
    "\n",
    "import csv\n",
    "with open('simper2.csv', 'w') as csvfile1:\n",
    "    fieldnames = ['OTU']\n",
    "    writer = csv.DictWriter(csvfile1, fieldnames=fieldnames, lineterminator = '\\n')\n",
    "    writer.writerow({'OTU':'OTU'})\n",
    "    for elem in sorted(otuDic.items(), key=lambda x: x[1], reverse=True):\n",
    "        writer.writerow({'OTU': elem[0]})\n",
    "        i+=1\n",
    "        if(i >= 50):\n",
    "            break"
   ]
  },
  {
   "cell_type": "markdown",
   "metadata": {},
   "source": [
    "### Parse the top fifty OTU's from the Corrected banana shared.csv using the simper2 file into an otus.csv file "
   ]
  },
  {
   "cell_type": "markdown",
   "metadata": {},
   "source": [
    "#### *Before I began, I plugged 'OTU' in the top leftmost cell but it doesnt matter for the code"
   ]
  },
  {
   "cell_type": "code",
   "execution_count": 33,
   "metadata": {},
   "outputs": [],
   "source": [
    "#https://realpython.com/pandas-read-write-files/\n",
    "#https://www.geeksforgeeks.org/indexing-and-selecting-data-with-pandas/\n",
    "#https://chrisalbon.com/python/data_wrangling/pandas_search_column_for_value/\n",
    "import pandas as pd\n",
    "indexlist1=[]\n",
    "data1 = pd.read_csv('simper2.csv', index_col = [0]) \n",
    "for index1, row1 in data1.iterrows():\n",
    "    #print(index1)\n",
    "    indexlist1.append(index1)\n",
    "data2 = pd.read_csv('Corrected_banana_shared.csv', index_col = [0]) \n",
    "#print(data2.head())\n",
    "df = pd.DataFrame()\n",
    "#print(data2.loc[indexlist1])\n",
    "df = data2.loc[indexlist1]\n",
    "df.columns = df.columns.str.strip().str.lower().str.replace(' ', '_')\n",
    "df.to_csv('otus.csv',index=True,sep='\\t')"
   ]
  },
  {
   "cell_type": "markdown",
   "metadata": {},
   "source": [
    "### Installing Clustergrammer"
   ]
  },
  {
   "cell_type": "code",
   "execution_count": 34,
   "metadata": {},
   "outputs": [],
   "source": [
    "#! pip install clustergrammer2\n",
    "#! jupyter labextension install @jupyter-widgets/jupyterlab-manager"
   ]
  },
  {
   "cell_type": "markdown",
   "metadata": {},
   "source": [
    "### Importing neccessary programs "
   ]
  },
  {
   "cell_type": "code",
   "execution_count": 35,
   "metadata": {},
   "outputs": [
    {
     "name": "stdout",
     "output_type": "stream",
     "text": [
      "0.24.2\n"
     ]
    }
   ],
   "source": [
    "import numpy as np\n",
    "import pandas as pd\n",
    "print(pd.__version__)\n",
    "from clustergrammer2 import net\n",
    "import warnings\n",
    "warnings.filterwarnings('ignore')"
   ]
  },
  {
   "cell_type": "markdown",
   "metadata": {},
   "source": [
    "Assignment statements in Python do not copy objects, they create bindings between a target and an object. For collections that are mutable or contain mutable items, a copy is sometimes needed so one can change one copy without changing the other."
   ]
  },
  {
   "cell_type": "code",
   "execution_count": 36,
   "metadata": {},
   "outputs": [],
   "source": [
    "from sklearn.metrics import f1_score\n",
    "from copy import deepcopy"
   ]
  },
  {
   "cell_type": "code",
   "execution_count": 37,
   "metadata": {},
   "outputs": [],
   "source": [
    "import matplotlib.pyplot as plt\n",
    "%matplotlib inline"
   ]
  },
  {
   "cell_type": "markdown",
   "metadata": {},
   "source": [
    "### Implementing the Bray Curtis distance formula and creating the heatmap based on contrib%"
   ]
  },
  {
   "cell_type": "code",
   "execution_count": 38,
   "metadata": {},
   "outputs": [
    {
     "data": {
      "application/vnd.jupyter.widget-view+json": {
       "model_id": "172c33ab24cc40b7a9351c67521b6ae8",
       "version_major": 2,
       "version_minor": 0
      },
      "text/plain": [
       "RXhhbXBsZVdpZGdldChuZXR3b3JrPXUneyJtYXQiOiBbWzAuMCwgNjQuMCwgMC4wLCAwLjAsIDAuMCwgMC4wLCAwLjAsIDAuMCwgMC4wLCAzNTIuMCwgOTAuMCwgODcuMCwgMjQ2LjAsIDMzLjDigKY=\n"
      ]
     },
     "metadata": {},
     "output_type": "display_data"
    }
   ],
   "source": [
    "net.load_file('otus.csv')\n",
    "net.cluster(dist_type='braycurtis', run_clustering=True, dendro=True, views=['N_row_sum', 'N_row_var'], linkage_type='average', sim_mat=False, filter_sim=0.1, calc_cat_pval=False, run_enrichr=None, enrichrgram = None)\n",
    "\n",
    "net.write_json_to_file('viz', 'mult_view213.json')\n",
    "net.widget()"
   ]
  },
  {
   "cell_type": "code",
   "execution_count": null,
   "metadata": {},
   "outputs": [],
   "source": []
  }
 ],
 "metadata": {
  "kernelspec": {
   "display_name": "p37workshop",
   "language": "python",
   "name": "p37workshop"
  },
  "language_info": {
   "codemirror_mode": {
    "name": "ipython",
    "version": 2
   },
   "file_extension": ".py",
   "mimetype": "text/x-python",
   "name": "python",
   "nbconvert_exporter": "python",
   "pygments_lexer": "ipython2",
   "version": "2.7.16"
  }
 },
 "nbformat": 4,
 "nbformat_minor": 4
}
